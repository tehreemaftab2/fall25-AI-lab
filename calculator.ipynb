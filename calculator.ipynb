{
 "cells": [
  {
   "cell_type": "code",
   "execution_count": 14,
   "id": "2c95fd8d",
   "metadata": {},
   "outputs": [
    {
     "name": "stdout",
     "output_type": "stream",
     "text": [
      "5/4= 1.25\n",
      "4-5/4= 2.75\n",
      "3*(4-5/4)= 8.25\n",
      "2*previous= 16.5\n",
      "3/5= 0.6\n",
      "Answer= 16.9\n"
     ]
    }
   ],
   "source": [
    "# expression: 1+2*3(4-5/4)-(3/5)\n",
    "step1=5/4\n",
    "print(\"5/4=\",step1)\n",
    "step2=4-step1\n",
    "print(\"4-5/4=\",step2)\n",
    "step3=3*step2\n",
    "print(\"3*(4-5/4)=\",step3)\n",
    "step4=2*step3\n",
    "print(\"2*previous=\",step4)\n",
    "step5=3/5\n",
    "print(\"3/5=\",step5)\n",
    "\n",
    "result=1+step4-step5\n",
    "print(\"Answer=\",result)"
   ]
  },
  {
   "cell_type": "code",
   "execution_count": 21,
   "id": "bb330856",
   "metadata": {},
   "outputs": [
    {
     "data": {
      "application/vnd.jupyter.widget-view+json": {
       "model_id": "ce88a6e89d0b416abb6179666be4ce32",
       "version_major": 2,
       "version_minor": 0
      },
      "text/plain": [
       "interactive(children=(FloatSlider(value=1.0, description='x1', max=10.0), FloatSlider(value=2.0, description='…"
      ]
     },
     "metadata": {},
     "output_type": "display_data"
    },
    {
     "data": {
      "text/plain": [
       "<function __main__.calculator(x1=1, x2=2, x3=3, x4=4, x5=5, x6=4, x7=3, x8=5)>"
      ]
     },
     "execution_count": 21,
     "metadata": {},
     "output_type": "execute_result"
    }
   ],
   "source": [
    "from ipywidgets import interact , FloatSlider\n",
    "def calculator(x1=1,x2=2,x3=3,x4=4,x5=5,x6=4,x7=3,x8=5):\n",
    "    result=x1+x2*x3*(x4-x5/x6)-(x7/x8)\n",
    "    print(f\"Result: {result:.4f}\")\n",
    "interact(\n",
    "    calculator,\n",
    "    x1=FloatSlider(value=1,min=0,max=10,step=0.1),\n",
    "    x2=FloatSlider(value=2,min=0,max=10,step=0.1),\n",
    "    x3=FloatSlider(value=3,min=0,max=10,step=0.1),\n",
    "    x4=FloatSlider(value=4,min=0,max=10,step=0.1),\n",
    "    x5=FloatSlider(value=5,min=0,max=10,step=0.1),\n",
    "    x6=FloatSlider(value=4,min=1,max=10,step=0.1),\n",
    "    x7=FloatSlider(value=3,min=0,max=10,step1=0.1),\n",
    "    x8=FloatSlider(value=5,min=1,max=10,step1=0.1),\n",
    "\n",
    ")"
   ]
  }
 ],
 "metadata": {
  "kernelspec": {
   "display_name": "base",
   "language": "python",
   "name": "python3"
  },
  "language_info": {
   "codemirror_mode": {
    "name": "ipython",
    "version": 3
   },
   "file_extension": ".py",
   "mimetype": "text/x-python",
   "name": "python",
   "nbconvert_exporter": "python",
   "pygments_lexer": "ipython3",
   "version": "3.12.7"
  }
 },
 "nbformat": 4,
 "nbformat_minor": 5
}
