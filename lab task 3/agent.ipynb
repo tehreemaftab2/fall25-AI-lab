{
 "cells": [
  {
   "cell_type": "markdown",
   "id": "32f85ffd",
   "metadata": {},
   "source": [
    "# Model-Based Reflex Agent"
   ]
  },
  {
   "cell_type": "code",
   "execution_count": 14,
   "id": "edd9f700",
   "metadata": {},
   "outputs": [
    {
     "name": "stdout",
     "output_type": "stream",
     "text": [
      "when temperature is 18, action is ON\n",
      "when temperature is 26, action is OFF\n",
      "when temperature is 24, action is OFF\n",
      "when temperature is 20, action is OFF\n",
      "when temperature is 19, action is ON\n",
      "when temperature is 25, action is ON\n"
     ]
    }
   ],
   "source": [
    "class Agent:\n",
    "    def __init__(self):\n",
    "        self.previous = \"OFF\"      # Store previous action (default OFF)\n",
    "\n",
    "    def choose_action(self, temperature):\n",
    "\n",
    "        if temperature < 20:        # Rule 1: If too cold turn heater ON\n",
    "            action = \"ON\"\n",
    "        elif temperature > 25:     # Rule 2: If too hot turn heater OFF\n",
    "            action = \"OFF\"\n",
    "        else:\n",
    "            action = self.previous    # Rule 3: Comfortable zone keep previous action\n",
    "\n",
    "        self.previous = action        # updation depends on action \n",
    "        return action\n",
    "x = Agent()\n",
    "temperatures = [18, 26, 24, 20, 19, 25]\n",
    "\n",
    "for t in temperatures:\n",
    "    print(f\"when temperature is {t}, action is {x.choose_action(t)}\")"
   ]
  },
  {
   "cell_type": "code",
   "execution_count": null,
   "id": "dc413991",
   "metadata": {},
   "outputs": [],
   "source": []
  },
  {
   "cell_type": "code",
   "execution_count": null,
   "id": "e01a0556",
   "metadata": {},
   "outputs": [],
   "source": []
  },
  {
   "cell_type": "code",
   "execution_count": null,
   "id": "e5dc0853",
   "metadata": {},
   "outputs": [],
   "source": []
  }
 ],
 "metadata": {
  "kernelspec": {
   "display_name": "base",
   "language": "python",
   "name": "python3"
  },
  "language_info": {
   "codemirror_mode": {
    "name": "ipython",
    "version": 3
   },
   "file_extension": ".py",
   "mimetype": "text/x-python",
   "name": "python",
   "nbconvert_exporter": "python",
   "pygments_lexer": "ipython3",
   "version": "3.12.7"
  }
 },
 "nbformat": 4,
 "nbformat_minor": 5
}
