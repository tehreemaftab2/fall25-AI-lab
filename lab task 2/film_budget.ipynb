{
 "cells": [
  {
   "cell_type": "markdown",
   "id": "39752220",
   "metadata": {},
   "source": [
    "# AVERAGE MOVIE BUDGET"
   ]
  },
  {
   "cell_type": "code",
   "execution_count": null,
   "id": "62ae21ca",
   "metadata": {},
   "outputs": [],
   "source": [
    "movies = [ \n",
    "    (\"Eternal Sunshine of the Spotless Mind\", 20000000), \n",
    "    (\"Memento\", 9000000), \n",
    "    (\"Requiem for a Dream\", 4500000), \n",
    "    (\"Pirates of the Caribbean: On Stranger Tides\", 379000000), \n",
    "    (\"Avengers: Age of Ultron\", 365000000), \n",
    "    (\"Avengers: Endgame\", 356000000), \n",
    "    (\"Incredibles 2\", 200000000) \n",
    "]  \n"
   ]
  },
  {
   "cell_type": "code",
   "execution_count": 6,
   "id": "d0e9ecdf",
   "metadata": {},
   "outputs": [
    {
     "name": "stdout",
     "output_type": "stream",
     "text": [
      "The average of all movies is: 169187500.0\n",
      "Total movies above average: 4\n"
     ]
    }
   ],
   "source": [
    "\n",
    "add = int(input(\"Enter movie you want to add:\"))\n",
    "for i in range(add):\n",
    "    name = input(\"Enter the name:\")\n",
    "    budget = int(input(\"Enter the budget:\"))\n",
    "    movies.append((name,budget))\n",
    "\n",
    "    total = 0\n",
    "    for x in movies:\n",
    "     total+= x[1]\n",
    "\n",
    "    average = total/len(movies)\n",
    "    print(\"The average of all movies is:\",average)\n",
    "\n",
    "    count = 0\n",
    "    for y in movies:\n",
    "      if y[1]>average:\n",
    "        extra = y[-1] -average\n",
    "        count+=1\n",
    "    print(\"Total movies above average:\", count)\n"
   ]
  }
 ],
 "metadata": {
  "kernelspec": {
   "display_name": "base",
   "language": "python",
   "name": "python3"
  },
  "language_info": {
   "codemirror_mode": {
    "name": "ipython",
    "version": 3
   },
   "file_extension": ".py",
   "mimetype": "text/x-python",
   "name": "python",
   "nbconvert_exporter": "python",
   "pygments_lexer": "ipython3",
   "version": "3.12.7"
  }
 },
 "nbformat": 4,
 "nbformat_minor": 5
}
