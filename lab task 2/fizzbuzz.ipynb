{
 "cells": [
  {
   "cell_type": "markdown",
   "id": "7962dc69",
   "metadata": {},
   "source": [
    "# FizzBuzz"
   ]
  },
  {
   "cell_type": "code",
   "execution_count": 10,
   "id": "58cf377c",
   "metadata": {},
   "outputs": [
    {
     "name": "stdout",
     "output_type": "stream",
     "text": [
      "1\n",
      "2\n",
      "Fizz\n",
      "4\n",
      "Buzz\n",
      "Fizz\n",
      "7\n"
     ]
    }
   ],
   "source": [
    "user=int(input(\"enter no:\")) #7\n",
    "for x in range(1, user+1):\n",
    "    if x % 3 == 0 and x % 5 == 0:\n",
    "        print(\"Fizz Buzz\")\n",
    "    elif x % 3 == 0:\n",
    "        print(\"Fizz\")\n",
    "    elif x % 5 == 0:\n",
    "        print(\"Buzz\")\n",
    "    else:\n",
    "        print(x)\n"
   ]
  },
  {
   "cell_type": "code",
   "execution_count": null,
   "id": "605525ca",
   "metadata": {},
   "outputs": [],
   "source": []
  },
  {
   "cell_type": "code",
   "execution_count": null,
   "id": "e5c086e5",
   "metadata": {},
   "outputs": [],
   "source": []
  },
  {
   "cell_type": "code",
   "execution_count": null,
   "id": "32392025",
   "metadata": {},
   "outputs": [],
   "source": []
  }
 ],
 "metadata": {
  "kernelspec": {
   "display_name": "Python 3",
   "language": "python",
   "name": "python3"
  },
  "language_info": {
   "codemirror_mode": {
    "name": "ipython",
    "version": 3
   },
   "file_extension": ".py",
   "mimetype": "text/x-python",
   "name": "python",
   "nbconvert_exporter": "python",
   "pygments_lexer": "ipython3",
   "version": "3.10.11"
  }
 },
 "nbformat": 4,
 "nbformat_minor": 5
}
