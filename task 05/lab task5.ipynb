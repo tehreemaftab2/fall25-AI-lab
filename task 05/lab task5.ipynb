{
 "cells": [
  {
   "cell_type": "code",
   "execution_count": 2,
   "id": "fcd23d8a",
   "metadata": {},
   "outputs": [
    {
     "name": "stdout",
     "output_type": "stream",
     "text": [
      "DFS order: ['A']\n"
     ]
    }
   ],
   "source": [
    "graph = {\n",
    "    'A': ['B', 'C'],\n",
    "    'B': ['D', 'E'],\n",
    "    'C': [],\n",
    "    'D': [],\n",
    "    'E': ['F'],\n",
    "    'F': []\n",
    "}\n",
    "\n",
    "def dfs_stack(start):\n",
    "    visited = []       \n",
    "    stack = [start]    \n",
    "\n",
    "    while stack:       \n",
    "        node = stack.pop()  \n",
    "        if node not in visited:\n",
    "            visited.append(node)  \n",
    "            for neighbor in reversed(graph[node]):\n",
    "                if neighbor  in visited:\n",
    "                    stack.append(neighbor)\n",
    "\n",
    "    return visited\n",
    "\n",
    "print(\"DFS order:\", dfs_stack('A'))\n"
   ]
  },
  {
   "cell_type": "code",
   "execution_count": null,
   "id": "bb8117da",
   "metadata": {},
   "outputs": [],
   "source": []
  }
 ],
 "metadata": {
  "kernelspec": {
   "display_name": "Python 3",
   "language": "python",
   "name": "python3"
  },
  "language_info": {
   "codemirror_mode": {
    "name": "ipython",
    "version": 3
   },
   "file_extension": ".py",
   "mimetype": "text/x-python",
   "name": "python",
   "nbconvert_exporter": "python",
   "pygments_lexer": "ipython3",
   "version": "3.10.11"
  }
 },
 "nbformat": 4,
 "nbformat_minor": 5
}
