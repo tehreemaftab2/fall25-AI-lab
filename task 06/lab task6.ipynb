{
 "cells": [
  {
   "cell_type": "code",
   "execution_count": 4,
   "id": "aa15e88b",
   "metadata": {},
   "outputs": [
    {
     "name": "stdout",
     "output_type": "stream",
     "text": [
      "A\n",
      "B\n",
      "C\n",
      "D\n",
      "E\n",
      "F\n"
     ]
    }
   ],
   "source": [
    "def bfs_without_queue(graph, current_level, visited=None):\n",
    "    if visited is None:\n",
    "        visited = set()\n",
    "\n",
    "    if not current_level: \n",
    "        return\n",
    "\n",
    "    next_level = []\n",
    "    for item in current_level:\n",
    "        if item not in visited:\n",
    "            print(item)\n",
    "            visited.add(item)\n",
    "            for neighbor in graph[item]:\n",
    "                if neighbor not in visited:\n",
    "                    next_level.append(neighbor)\n",
    "\n",
    "    bfs_without_queue(graph, next_level, visited)\n",
    "\n",
    "graph = {\n",
    "    'A': ['B', 'C'],\n",
    "    'B': ['D', 'E'],\n",
    "    'C': ['F'],\n",
    "    'D': [],\n",
    "    'E': ['F'],\n",
    "    'F': []\n",
    "}\n",
    "\n",
    "bfs_without_queue(graph, ['A'])\n"
   ]
  },
  {
   "cell_type": "code",
   "execution_count": 3,
   "id": "e3691515",
   "metadata": {},
   "outputs": [
    {
     "name": "stdout",
     "output_type": "stream",
     "text": [
      "\n",
      "BFS with queue (list):\n",
      "A\n",
      "B\n",
      "C\n",
      "D\n",
      "E\n",
      "F\n"
     ]
    }
   ],
   "source": [
    "def bfs_with_queue(graph, start):\n",
    "    visited = set()\n",
    "    queue = [start]  \n",
    "\n",
    "    while queue:\n",
    "        item = queue.pop(0)  \n",
    "        if item not in visited:\n",
    "            print(item)\n",
    "            visited.add(item)\n",
    "            for neighbor in graph[item]:\n",
    "                if neighbor not in visited:\n",
    "                    queue.append(neighbor)\n",
    "\n",
    "\n",
    "# Graph\n",
    "graph = {\n",
    "    'A': ['B', 'C'],\n",
    "    'B': ['D', 'E'],\n",
    "    'C': ['F'],\n",
    "    'D': [],\n",
    "    'E': ['F'],\n",
    "    'F': []\n",
    "}\n",
    "\n",
    "print(\"\\nBFS with queue (list):\")\n",
    "bfs_with_queue(graph, 'A')\n"
   ]
  }
 ],
 "metadata": {
  "kernelspec": {
   "display_name": "Python 3",
   "language": "python",
   "name": "python3"
  },
  "language_info": {
   "codemirror_mode": {
    "name": "ipython",
    "version": 3
   },
   "file_extension": ".py",
   "mimetype": "text/x-python",
   "name": "python",
   "nbconvert_exporter": "python",
   "pygments_lexer": "ipython3",
   "version": "3.10.11"
  }
 },
 "nbformat": 4,
 "nbformat_minor": 5
}
