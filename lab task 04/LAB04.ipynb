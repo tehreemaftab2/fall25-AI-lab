{
 "cells": [
  {
   "cell_type": "markdown",
   "id": "2543fb26",
   "metadata": {},
   "source": [
    "# LUHN ALGORITHM"
   ]
  },
  {
   "cell_type": "code",
   "execution_count": null,
   "id": "4d810b78",
   "metadata": {},
   "outputs": [],
   "source": [
    "# used to validate identification numbers such as credit card numbers."
   ]
  },
  {
   "cell_type": "code",
   "execution_count": 32,
   "id": "2737c1e7",
   "metadata": {},
   "outputs": [
    {
     "name": "stdout",
     "output_type": "stream",
     "text": [
      "4539 1488 0343 is INVALID\n"
     ]
    }
   ],
   "source": [
    "def algorithm(digits):\n",
    "    digits=digits.replace(\" \",\"\") #remove spaces\n",
    "    digits=[int(d)for d in digits]\n",
    "    total=0\n",
    "    for i, d in enumerate(digits[::-1]):# reverse R to L \n",
    "        if i % 2 == 1:# double every 2nd digit\n",
    "            d = d * 2\n",
    "            if d > 9:\n",
    "                d -= 9\n",
    "            total+= d\n",
    "\n",
    "    return total % 10 == 0   # valid if divisible by 10\n",
    "digits = \"4539 1488 0343\"\n",
    "if algorithm(digits):\n",
    "    print(f\"{digits} is VALID\")\n",
    "else:\n",
    "    print(f\"{digits} is INVALID\")\n",
    "\n",
    "\n",
    "\n"
   ]
  },
  {
   "cell_type": "markdown",
   "id": "add1a4a4",
   "metadata": {},
   "source": [
    "# REMOVE PUNCTUATION :"
   ]
  },
  {
   "cell_type": "code",
   "execution_count": 27,
   "id": "80135aaf",
   "metadata": {},
   "outputs": [
    {
     "name": "stdout",
     "output_type": "stream",
     "text": [
      "original:\n",
      " GOOD MORNING!!, my name is (JOHN)...\n",
      "after removing:\n",
      " GOOD MORNING my name is JOHN\n"
     ]
    }
   ],
   "source": [
    "def punctuation(text):\n",
    "  punctuations = \"!()-[]{};:'\\\"\\\\,<>./?@#$%^&*_~\"\n",
    "  final=\"\"\n",
    "  for alpha in text:\n",
    "    if alpha not in punctuations:\n",
    "      final+=alpha\n",
    "  return final\n",
    "text=\"GOOD MORNING!!, my name is (JOHN)...\"\n",
    "print(\"original:\\n\",text)\n",
    "print(\"after removing:\\n\",punctuation(text))"
   ]
  },
  {
   "cell_type": "markdown",
   "id": "89190160",
   "metadata": {},
   "source": [
    "# SORT ALPHABETICALLY:"
   ]
  },
  {
   "cell_type": "code",
   "execution_count": 40,
   "id": "815c3fe4",
   "metadata": {},
   "outputs": [
    {
     "name": "stdout",
     "output_type": "stream",
     "text": [
      "before :\n",
      " i have to go for a Morning walk\n",
      "after:\n",
      " Morning a for go have i to walk\n"
     ]
    }
   ],
   "source": [
    "def sort(text):\n",
    "    word=text.split()# breaks sentence into list of words\n",
    "    word.sort()# sort (A to Z alphabet)\n",
    "    return \" \".join(word) #Joins back into a single string, with spaces between words.\n",
    "text=\"i have to go for a Morning walk\"\n",
    "print(\"before :\\n\",text)\n",
    "print(\"after:\\n\",sort(text))"
   ]
  }
 ],
 "metadata": {
  "kernelspec": {
   "display_name": "Python 3",
   "language": "python",
   "name": "python3"
  },
  "language_info": {
   "codemirror_mode": {
    "name": "ipython",
    "version": 3
   },
   "file_extension": ".py",
   "mimetype": "text/x-python",
   "name": "python",
   "nbconvert_exporter": "python",
   "pygments_lexer": "ipython3",
   "version": "3.10.11"
  }
 },
 "nbformat": 4,
 "nbformat_minor": 5
}
